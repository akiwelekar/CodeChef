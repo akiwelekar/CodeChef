{
  "nbformat": 4,
  "nbformat_minor": 0,
  "metadata": {
    "colab": {
      "name": "distributeApples",
      "version": "0.3.2",
      "provenance": [],
      "include_colab_link": true
    },
    "kernelspec": {
      "name": "python3",
      "display_name": "Python 3"
    }
  },
  "cells": [
    {
      "cell_type": "markdown",
      "metadata": {
        "id": "view-in-github",
        "colab_type": "text"
      },
      "source": [
        "<a href=\"https://colab.research.google.com/github/akiwelekar/CodeChef/blob/master/distributeApples.ipynb\" target=\"_parent\"><img src=\"https://colab.research.google.com/assets/colab-badge.svg\" alt=\"Open In Colab\"/></a>"
      ]
    },
    {
      "cell_type": "code",
      "metadata": {
        "id": "6CtgWrEiX-rG",
        "colab_type": "code",
        "outputId": "4aa079b2-a374-40e3-da96-6fecd3e9d740",
        "colab": {
          "base_uri": "https://localhost:8080/",
          "height": 72
        }
      },
      "source": [
        "tc = int(input())\n",
        "\n",
        "for t in range(1, tc+1):\n",
        "  b1 =[]\n",
        "  b2= []\n",
        "  line =input().split()\n",
        "\n",
        "  n= int(line[0])\n",
        "  k= int(line[1])\n",
        "\n",
        "\n",
        "  for i in range(0,k):\n",
        "    b1.insert(i,0)\n",
        "    b2.insert(i,0)\n",
        "\n",
        " \n",
        "\n",
        "  while(sum(b1)!= n):\n",
        "    for i in range(0,k):\n",
        "      b1[i] = b1[i]+1\n",
        "\n",
        "\n",
        "  while(sum(b2)!= n):\n",
        "    for i in range(0,k):\n",
        "      if sum(b2)!= n:\n",
        "        b2[i]= b2[i] + k\n",
        "      elif sum(b2) == n:\n",
        "        break\n",
        "\n",
        "  if b1== b2 :\n",
        "    print(\"YES\")\n",
        "  elif b1 != b2:\n",
        "    print(\"NO\")\n",
        "\n",
        "\n",
        "\n",
        "\n",
        "\n",
        "\n",
        "  \n",
        "\n"
      ],
      "execution_count": 0,
      "outputs": [
        {
          "output_type": "stream",
          "text": [
            "1\n",
            "6 2\n",
            "NO\n"
          ],
          "name": "stdout"
        }
      ]
    },
    {
      "cell_type": "code",
      "metadata": {
        "id": "3xs24O_H7eM0",
        "colab_type": "code",
        "colab": {}
      },
      "source": [
        ""
      ],
      "execution_count": 0,
      "outputs": []
    }
  ]
}